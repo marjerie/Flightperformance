{
 "cells": [
  {
   "cell_type": "code",
   "execution_count": 2,
   "metadata": {},
   "outputs": [],
   "source": [
    "import numpy as np\n",
    "import pandas as pd\n",
    "df= pd.read_csv(r'C:\\Users\\Marjerie\\Desktop\\train1.csv')\n",
    "df = df[df.ArrDel15 != 0]\n",
    "vals={'ATL' : 1, 'CLT' : 2, 'DEN' : 3, 'DFW' : 4, 'EWR' : 5, 'IAH' : 6, 'JFK' : 7, 'LAS' : 8, 'LAX' : 9, 'MCO' : 10, 'MIA' : 11, 'ORD' : 12, 'PHX' : 13, 'SEA' : 14, 'SFO' : 15}\n",
    "df = df.replace({'Dest' : vals}) \n",
    "df1=df.drop(['date','time','Year','airport','CRSDepTime','CRSArrTime','ArrDel15','ArrDelayMinutes'], axis=1)\n",
    "df2=df['ArrDelayMinutes']\n",
    "X= df1.values\n",
    "y= df2.values\n",
    "X = X.astype(int)\n",
    "y = y.astype(int)\n",
    "df= pd.read_csv(r'C:\\Users\\Marjerie\\Desktop\\2015-merged1.csv')\n",
    "df = df[df.ArrDel15 != 0]\n",
    "vals={'ATL' : 1, 'CLT' : 2, 'DEN' : 3, 'DFW' : 4, 'EWR' : 5, 'IAH' : 6, 'JFK' : 7, 'LAS' : 8, 'LAX' : 9, 'MCO' : 10, 'MIA' : 11, 'ORD' : 12, 'PHX' : 13, 'SEA' : 14, 'SFO' : 15}\n",
    "df = df.replace({'Dest' : vals}) \n",
    "df3=df.drop(['date','time','airport','Year','CRSDepTime','CRSArrTime','ArrDel15','ArrDelayMinutes'], axis=1)\n",
    "df4=df['ArrDelayMinutes']\n",
    "X_test= df3.values\n",
    "y_test= df4.values\n",
    "X_test = X_test.astype(int)\n",
    "y_test = y_test.astype(int)"
   ]
  },
  {
   "cell_type": "code",
   "execution_count": 5,
   "metadata": {},
   "outputs": [
    {
     "name": "stdout",
     "output_type": "stream",
     "text": [
      "0.9894915646661289\n",
      "7.96052479025786\n",
      "122.51002838136282\n",
      "0.9710954057288071\n",
      "[0.0019312  0.01616734 0.01310922 0.17902961 0.00051488 0.07019097\n",
      " 0.15561657 0.08930213 0.17935877 0.01524907 0.01085289 0.01945527\n",
      " 0.00634895 0.00364698 0.0191004  0.00403921 0.013276   0.01457411\n",
      " 0.02480859 0.01615323 0.0111216  0.01295763 0.00886519 0.01853857\n",
      " 0.0058607  0.00326432 0.01774898 0.00375007 0.0127506  0.01089646\n",
      " 0.01688037 0.01417553 0.01046462]\n"
     ]
    }
   ],
   "source": [
    "from sklearn.ensemble import GradientBoostingRegressor\n",
    "from sklearn.metrics import mean_absolute_error\n",
    "from sklearn.metrics import mean_squared_error\n",
    "from sklearn.metrics import r2_score\n",
    "model = GradientBoostingRegressor(max_features=33,max_depth=8,n_estimators=1000)\n",
    "model.fit(X, y)\n",
    "score=model.score(X, y)\n",
    "print (score)\n",
    "y_pred= model.predict(X_test)\n",
    "print(mean_absolute_error(y_test, y_pred))\n",
    "print(mean_squared_error(y_test, y_pred))\n",
    "print (r2_score(y_test, y_pred))\n",
    "print(model.feature_importances_)"
   ]
  },
  {
   "cell_type": "code",
   "execution_count": 24,
   "metadata": {},
   "outputs": [],
   "source": [
    "import pandas as pd\n",
    "df =pd.read_csv(r'C:\\Users\\Marjerie\\Desktop\\2013-merged1.csv')\n",
    "df1 =pd.read_csv(r'C:\\Users\\Marjerie\\Desktop\\2014-merged1.csv')\n",
    "new = pd.concat([df,df1])\n",
    "new.to_csv('train1.csv',index=False,encoding='utf-8')"
   ]
  },
  {
   "cell_type": "code",
   "execution_count": 6,
   "metadata": {},
   "outputs": [
    {
     "name": "stdout",
     "output_type": "stream",
     "text": [
      "0.9970875508059398\n",
      "7.020235947807052\n",
      "93.35006037196023\n",
      "0.9779753081776826\n",
      "[0.00259617 0.0197032  0.01928258 0.14535354 0.00053753 0.07098123\n",
      " 0.11866641 0.06561431 0.15461915 0.01969046 0.01520038 0.03005506\n",
      " 0.00697261 0.0033953  0.0265831  0.00486404 0.01788255 0.01949084\n",
      " 0.02686408 0.02095245 0.01632035 0.01834619 0.01397067 0.02954057\n",
      " 0.00703964 0.00324234 0.02435138 0.00524889 0.0175776  0.01816648\n",
      " 0.02226673 0.01915677 0.01546741]\n"
     ]
    }
   ],
   "source": [
    "from sklearn.ensemble import GradientBoostingRegressor\n",
    "from sklearn.metrics import mean_absolute_error\n",
    "from sklearn.metrics import mean_squared_error\n",
    "from sklearn.metrics import r2_score\n",
    "model = GradientBoostingRegressor(max_features=33,max_depth=8,n_estimators=3000)\n",
    "model.fit(X, y)\n",
    "score=model.score(X, y)\n",
    "print (score)\n",
    "y_pred= model.predict(X_test)\n",
    "print(mean_absolute_error(y_test, y_pred))\n",
    "print(mean_squared_error(y_test, y_pred))\n",
    "print (r2_score(y_test, y_pred))\n",
    "print(model.feature_importances_)"
   ]
  },
  {
   "cell_type": "code",
   "execution_count": 3,
   "metadata": {},
   "outputs": [
    {
     "data": {
      "text/plain": [
       "(394486, 33)"
      ]
     },
     "execution_count": 3,
     "metadata": {},
     "output_type": "execute_result"
    }
   ],
   "source": [
    "df1.shape"
   ]
  },
  {
   "cell_type": "code",
   "execution_count": 4,
   "metadata": {},
   "outputs": [
    {
     "data": {
      "text/plain": [
       "(394486,)"
      ]
     },
     "execution_count": 4,
     "metadata": {},
     "output_type": "execute_result"
    }
   ],
   "source": [
    "df2.shape"
   ]
  },
  {
   "cell_type": "code",
   "execution_count": 5,
   "metadata": {},
   "outputs": [
    {
     "data": {
      "text/plain": [
       "(188598, 33)"
      ]
     },
     "execution_count": 5,
     "metadata": {},
     "output_type": "execute_result"
    }
   ],
   "source": [
    "df3.shape"
   ]
  },
  {
   "cell_type": "code",
   "execution_count": 6,
   "metadata": {},
   "outputs": [
    {
     "data": {
      "text/plain": [
       "(188598,)"
      ]
     },
     "execution_count": 6,
     "metadata": {},
     "output_type": "execute_result"
    }
   ],
   "source": [
    "df4.shape"
   ]
  },
  {
   "cell_type": "code",
   "execution_count": null,
   "metadata": {},
   "outputs": [],
   "source": []
  }
 ],
 "metadata": {
  "kernelspec": {
   "display_name": "Python 3",
   "language": "python",
   "name": "python3"
  },
  "language_info": {
   "codemirror_mode": {
    "name": "ipython",
    "version": 3
   },
   "file_extension": ".py",
   "mimetype": "text/x-python",
   "name": "python",
   "nbconvert_exporter": "python",
   "pygments_lexer": "ipython3",
   "version": "3.6.6"
  }
 },
 "nbformat": 4,
 "nbformat_minor": 2
}
